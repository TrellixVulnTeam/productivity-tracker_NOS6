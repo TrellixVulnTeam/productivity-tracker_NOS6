{
 "cells": [
  {
   "cell_type": "code",
   "execution_count": 15,
   "metadata": {
    "collapsed": true
   },
   "outputs": [],
   "source": [
    "import numpy as np"
   ]
  },
  {
   "cell_type": "code",
   "execution_count": 16,
   "metadata": {},
   "outputs": [],
   "source": [
    "# track from 6am to 2am \n",
    "profiles = np.zeros((4, 20))\n"
   ]
  },
  {
   "cell_type": "code",
   "execution_count": 38,
   "metadata": {
    "collapsed": true
   },
   "outputs": [],
   "source": [
    "# takes in the average work completed in each hour \n",
    "\n",
    "def get_best(average_work_array):\n",
    "    # time of best productivity\n",
    "    best_time = np.argmax(average_work_array)\n",
    "    print(best_time)\n",
    "    low = max(0, best_time-5)\n",
    "    high = min(best_time+5, average_work_array.shape[0])\n",
    "    \n",
    "    \n",
    "    count = 0\n",
    "    total = 0\n",
    "    for i in range(high-low):\n",
    "        if average_work_array[i] != 0:\n",
    "            count += 1\n",
    "            total += average_work_array[i]\n",
    "    if count != 0:\n",
    "        average = total / count\n",
    "    else:\n",
    "        average = 0\n",
    "    if average > 0.6:\n",
    "        return 'Pomodoro'\n",
    "    if best_time < 4:\n",
    "        return 'Eat a frog'\n",
    "    elif best_time > 15:\n",
    "        return 'Tackle at night'\n",
    "    else:\n",
    "        return 'Afternoon worker'"
   ]
  },
  {
   "cell_type": "code",
   "execution_count": 40,
   "metadata": {},
   "outputs": [
    {
     "name": "stdout",
     "output_type": "stream",
     "text": [
      "4\n",
      "Pomodoro\n",
      "16\n",
      "Tackle at night\n"
     ]
    }
   ],
   "source": [
    "# test\n",
    "pomodoro_guy = np.zeros(20)\n",
    "pomodoro_guy[4:6] = 0.9\n",
    "pomodoro_guy[8:10] = 0.8\n",
    "print(get_best(pomodoro_guy))\n",
    "\n",
    "night_guy = np.zeros(20)\n",
    "night_guy[16:] = 0.7\n",
    "print(get_best(night_guy))"
   ]
  },
  {
   "cell_type": "code",
   "execution_count": null,
   "metadata": {
    "collapsed": true
   },
   "outputs": [],
   "source": []
  },
  {
   "cell_type": "code",
   "execution_count": null,
   "metadata": {
    "collapsed": true
   },
   "outputs": [],
   "source": []
  }
 ],
 "metadata": {
  "kernelspec": {
   "display_name": "Python 3",
   "language": "python",
   "name": "python3"
  },
  "language_info": {
   "codemirror_mode": {
    "name": "ipython",
    "version": 3
   },
   "file_extension": ".py",
   "mimetype": "text/x-python",
   "name": "python",
   "nbconvert_exporter": "python",
   "pygments_lexer": "ipython3",
   "version": "3.6.5"
  }
 },
 "nbformat": 4,
 "nbformat_minor": 2
}
